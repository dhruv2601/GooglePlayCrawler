{
 "cells": [
  {
   "cell_type": "markdown",
   "metadata": {
    "scrolled": true
   },
   "source": [
    "                       Script to download the apps - Category wise.  Please follow comments :)"
   ]
  },
  {
   "cell_type": "code",
   "execution_count": null,
   "metadata": {},
   "outputs": [],
   "source": []
  },
  {
   "cell_type": "code",
   "execution_count": null,
   "metadata": {},
   "outputs": [],
   "source": [
    "CATEGORY = {\n",
    "  'ANDROID_WEAR': 'ANDROID_WEAR',\n",
    "  'ART_AND_DESIGN': 'ART_AND_DESIGN',\n",
    "  'AUTO_AND_VEHICLES': 'AUTO_AND_VEHICLES',\n",
    "  'BEAUTY': 'BEAUTY',\n",
    "  'BOOKS_AND_REFERENCE': 'BOOKS_AND_REFERENCE',\n",
    "  'BUSINESS': 'BUSINESS',\n",
    "  'COMICS': 'COMICS',\n",
    "  'COMMUNICATION': 'COMMUNICATION',\n",
    "  'DATING': 'DATING',\n",
    "  'EDUCATION': 'EDUCATION',\n",
    "  'ENTERTAINMENT': 'ENTERTAINMENT',\n",
    "  'EVENTS': 'EVENHEALTH_AND_FITNESSTS',\n",
    "  'FINANCE': 'FINANCE',\n",
    "  'FOOD_AND_DRINK': 'FOOD_AND_DRINK',\n",
    "  'HEALTH_AND_FITNESS': 'HEALTH_AND_FITNESS',\n",
    "  'HOUSE_AND_HOME': 'HOUSE_AND_HOME',\n",
    "  'LIBRARIES_AND_DEMO': 'LIBRARIES_AND_DEMO',\n",
    "  'LIFESTYLE': 'LIFESTYLE',\n",
    "  'MAPS_AND_NAVIGATION': 'MAPS_AND_NAVIGATION',\n",
    "  'MEDICAL': 'MEDICAL',\n",
    "  'MUSIC_AND_AUDIO': 'MUSIC_AND_AUDIO',\n",
    "  'NEWS_AND_MAGAZINES': 'NEWS_AND_MAGAZINES',\n",
    "  'PARENTING': 'PARENTING',\n",
    "  'PERSONALIZATION': 'PERSONALIZATION',\n",
    "  'PHOTOGRAPHY': 'PHOTOGRAPHY',\n",
    "  'PRODUCTIVITY': 'PRODUCTIVITY',\n",
    "  'SHOPPING': 'SHOPPING',\n",
    "  'SOCIAL': 'SOCIAL',\n",
    "  'SPORTS': 'SPORTS',\n",
    "  'TOOLS': 'TOOLS',\n",
    "  'TRAVEL_AND_LOCAL': 'TRAVEL_AND_LOCAL',\n",
    "  'VIDEO_PLAYERS': 'VIDEO_PLAYERS',\n",
    "  'WEATHER': 'WEATHER',\n",
    "  'GAME': 'GAME',\n",
    "  'GAME_ACTION': 'GAME_ACTION',\n",
    "  'GAME_ADVENTURE': 'GAME_ADVENTURE',\n",
    "  'GAME_ARCADE': 'GAME_ARCADE',\n",
    "  'GAME_BOARD': 'GAME_BOARD',\n",
    "  'GAME_CARD': 'GAME_CARD',\n",
    "  'GAME_CASINO': 'GAME_CASINO',\n",
    "  'GAME_CASUAL': 'GAME_CASUAL',\n",
    "  'GAME_EDUCATIONAL': 'GAME_EDUCATIONAL',\n",
    "  'GAME_MUSIC': 'GAME_MUSIC',\n",
    "  'GAME_PUZZLE': 'GAME_PUZZLE',\n",
    "  'GAME_RACING': 'GAME_RACING',\n",
    "  'GAME_ROLE_PLAYING': 'GAME_ROLE_PLAYING',\n",
    "  'GAME_SIMULATION': 'GAME_SIMULATION',\n",
    "  'GAME_SPORTS': 'GAME_SPORTS',\n",
    "  'GAME_STRATEGY': 'GAME_STRATEGY',\n",
    "  'GAME_TRIVIA': 'GAME_TRIVIA',\n",
    "  'GAME_WORD': 'GAME_WORD',\n",
    "  'FAMILY': 'FAMILY',\n",
    "  'FAMILY_ACTION': 'FAMILY_ACTION',\n",
    "  'FAMILY_BRAINGAMES': 'FAMILY_BRAINGAMES',\n",
    "  'FAMILY_CREATE': 'FAMILY_CREATE',\n",
    "  'FAMILY_EDUCATION': 'FAMILY_EDUCATION',\n",
    "  'FAMILY_MUSICVIDEO': 'FAMILY_MUSICVIDEO',\n",
    "  'FAMILY_PRETEND': 'FAMILY_PRETEND'\n",
    "}\n",
    "\n",
    "\n",
    "\n",
    "topics = []\n",
    "ind = 0\n",
    "\n",
    "for key in CATEGORY:\n",
    "    topics.append(key)\n",
    "    \n",
    "topics = sorted(topics)\n",
    "\n",
    "count=0\n",
    "    \n",
    "DIR = \"/media/dhruv2601/Carseat/TopFreeAppsDataSet/\"   # DIR path to save the downloads."
   ]
  },
  {
   "cell_type": "code",
   "execution_count": null,
   "metadata": {
    "scrolled": true
   },
   "outputs": [],
   "source": [
    "# make a new folder for category, put the appropriate index from CATEGORY list into the topics array.\n",
    "\n",
    "import os\n",
    "newFolder = os.path.join(DIR, topics[35]) \n",
    "print(newFolder)\n",
    "\n",
    "if not os.path.exists(newFolder):\n",
    "    os.mkdir(newFolder)            "
   ]
  },
  {
   "cell_type": "raw",
   "metadata": {},
   "source": [
    "    "
   ]
  },
  {
   "cell_type": "markdown",
   "metadata": {
    "scrolled": true
   },
   "source": []
  },
  {
   "cell_type": "code",
   "execution_count": null,
   "metadata": {
    "scrolled": true
   },
   "outputs": [],
   "source": [
    "import getpass\n",
    "import os\n",
    "\n",
    "password = getpass.getpass()\n",
    "cmd = \"sudo fuser -k 3000/tcp\"\n",
    "os.system('echo %s | %s'%(password, cmd))\n",
    "\n",
    "# in the line below, change the -d param accordingly, and -g param as per the category of download.\n",
    "# the downloading device currently is running Android 8.1 (API 27).\n",
    "\n",
    "!command python GooglePlayCrawler.py -d \"/media/dhruv2601/Carseat/TopFreeAppsDataSet/GAME_SPORTS\" -g GAME_SPORTS -n 120 -dc oneplus3t\n",
    "\n",
    "# you can try adding a loop if you want to download for all categories."
   ]
  },
  {
   "cell_type": "code",
   "execution_count": null,
   "metadata": {},
   "outputs": [],
   "source": []
  },
  {
   "cell_type": "code",
   "execution_count": null,
   "metadata": {
    "scrolled": true
   },
   "outputs": [],
   "source": [
    "# import getpass\n",
    "# import os\n",
    "# from time import sleep\n",
    "\n",
    "# password = getpass.getpass()\n",
    "# # makeSU = \"sudo su\"\n",
    "# # os.system('echo %s | %s'%(password, makeSU))\n",
    "\n",
    "# cmd = \"sudo lsof -t -i:3000\"  #kill port 3000 \n",
    "# os.system('echo %s | %s'%(password, cmd))\n",
    "\n",
    "# ind = 0\n",
    "\n",
    "# for i in range(6, 50):\n",
    "    \n",
    "# #     sleep(60)     # so that connection is rarely refused\n",
    "    \n",
    "# #     testing\n",
    "#     cmd = \"sudo lsof -t -i:3000\"  #kill port 3000 \n",
    "#     os.system('echo %s | %s'%(password, cmd))\n",
    "# # testing\n",
    "    \n",
    "#     ind = i*120\n",
    "#     print ind\n",
    "#     newFolder = os.path.join(\"/media/dhruv2601/Carseat/AppDataset\", str(i))\n",
    "#     print(newFolder)\n",
    "#     if not os.path.exists(newFolder):\n",
    "#         os.mkdir(newFolder)\n",
    "\n",
    "#     download = \"python GooglePlayCrawler.py -d \"+newFolder+\" -n 119 -s \"+str(ind)+\" -dc oneplus3t\"\n",
    "#     os.system('echo %s | %s'%(password, download))\n",
    "\n",
    "# #     !command python GooglePlayCrawler.py -d \"/media/dhruv2601/Carseat/AppDataset\" -n 120 -s (ind) -dc oneplus3t  "
   ]
  },
  {
   "cell_type": "code",
   "execution_count": null,
   "metadata": {},
   "outputs": [],
   "source": [
    "# import pandas as pd\n",
    "\n",
    "# df = pd.DataFrame(dtype='string', columns=['packageName'])"
   ]
  },
  {
   "cell_type": "code",
   "execution_count": null,
   "metadata": {
    "scrolled": true
   },
   "outputs": [],
   "source": [
    "# import getpass\n",
    "# import os\n",
    "# from os import walk\n",
    "\n",
    "# password = getpass.getpass()\n",
    "\n",
    "# cmd = \"sudo fuser -k 3000/tcp\"  #kill port 3000 \n",
    "# # cmd = \"fuser -n tcp -k 3000\"\n",
    "# (os.system('echo %s | %s'%(password, cmd)))\n",
    "\n",
    "\n",
    "# !command python GooglePlayCrawler.py -d \"/media/dhruv2601/Carseat/Top500FreeAppDataset/5/\" -n 20 -s 481 -dc oneplus3t"
   ]
  }
 ],
 "metadata": {
  "kernelspec": {
   "display_name": "Python 2",
   "language": "python",
   "name": "python2"
  },
  "language_info": {
   "codemirror_mode": {
    "name": "ipython",
    "version": 2
   },
   "file_extension": ".py",
   "mimetype": "text/x-python",
   "name": "python",
   "nbconvert_exporter": "python",
   "pygments_lexer": "ipython2",
   "version": "2.7.12"
  }
 },
 "nbformat": 4,
 "nbformat_minor": 2
}
